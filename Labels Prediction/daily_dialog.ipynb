{
 "cells": [
  {
   "cell_type": "markdown",
   "metadata": {},
   "source": [
    "<H1>Loading Dataset & Creating Train / Val / Test Samples for Next Sequence of Labels Prediction</h1>\n",
    "We load the dataset, split every conversation using a context window of 3 in the format: [UTTERANCE 1 UTTERANCE 2 UTTERANCE 3] [Sequence of Labels associated with UTTERANCE 4]\n",
    "\n",
    "\n",
    "<i>vers. 10/2023</i>"
   ]
  },
  {
   "cell_type": "code",
   "execution_count": null,
   "metadata": {},
   "outputs": [],
   "source": [
    "from datasets import load_dataset\n",
    "import pandas as pd\n",
    "from tqdm import tqdm"
   ]
  },
  {
   "cell_type": "code",
   "execution_count": null,
   "metadata": {},
   "outputs": [],
   "source": [
    "# IMPORT DATASET\n",
    "dataset = load_dataset('daily_dialog')"
   ]
  },
  {
   "cell_type": "code",
   "execution_count": null,
   "metadata": {},
   "outputs": [],
   "source": [
    "# MAPPING FUNCTIONS\n",
    "\n",
    "def get_act(label):\n",
    "\n",
    "    if label == 0:\n",
    "        return '__dummy__'\n",
    "    \n",
    "    elif label == 1:\n",
    "        return 'inform'\n",
    "\n",
    "    elif label == 2:\n",
    "        return 'question'\n",
    "\n",
    "    elif label == 3:\n",
    "        return 'directive'\n",
    "    \n",
    "    elif label == 4:\n",
    "        return 'commissive'\n",
    "\n",
    "    else:\n",
    "        print('wtf act : ', label)\n",
    "\n",
    "\n",
    "\n",
    "def get_emo(label):\n",
    "   \n",
    "    if label == 0:\n",
    "            return 'neutral'\n",
    "        \n",
    "    elif label == 1:\n",
    "        return 'anger'\n",
    "\n",
    "    elif label == 2:\n",
    "        return 'disgust'\n",
    "\n",
    "    elif label == 3:\n",
    "        return 'fear'\n",
    "    \n",
    "    elif label == 4:\n",
    "        return 'happiness'\n",
    "\n",
    "    elif label == 5:\n",
    "        return 'sadness'\n",
    "    \n",
    "    elif label == 6:\n",
    "        return 'surprise'\n",
    "\n",
    "    else:\n",
    "        print('wtf emotion : ', label)"
   ]
  },
  {
   "cell_type": "code",
   "execution_count": null,
   "metadata": {},
   "outputs": [],
   "source": [
    "# EXTRACT CONVERSATIONAL SAMPLES, WITH A WINDOW OF 3: 3 SPEAKER TURNS + RESPONSE\n",
    "# SPEAKER TURNS ARE SEPARATED WITH THE <SEP> TAG. EX: U1<SEP>U2<SEP>U3\n",
    "# SEQUENCE OF LABELS IS DIVIDED WITH THE + SIGN. EX: LABEL1+LABEL2+LABEL3\n",
    "\n",
    "def extract_dataset(ds, window=3):\n",
    "    dialogues = []\n",
    "    annots = [] \n",
    "    for i in tqdm(range(len(ds))):\n",
    "        #print(i, ' out of ', len(ds))\n",
    "        dialog = ds['dialog'][i]\n",
    "        acts=ds['act'][i]\n",
    "        emotion = ds['emotion'][i]\n",
    "        for j in range(window, len(dialog)):\n",
    "            dialogues.append('<SEP>'.join(dialog[j-window:j]))\n",
    "            if emotion[j] != 0:\n",
    "                annot = [get_act(acts[j])]\n",
    "                annot.append(get_emo(emotion[j]))\n",
    "                annots.append('+'.join(annot))\n",
    "            \n",
    "            else:\n",
    "                annots.append(get_act(acts[j]))\n",
    "\n",
    "    return dialogues, annots"
   ]
  },
  {
   "cell_type": "code",
   "execution_count": null,
   "metadata": {},
   "outputs": [],
   "source": [
    "cols = ['inform', 'question', 'directive', 'commissive', 'neutral', 'anger', 'disgust', 'fear', 'happiness', 'sadness','surprise']"
   ]
  },
  {
   "cell_type": "code",
   "execution_count": null,
   "metadata": {},
   "outputs": [],
   "source": [
    "# CONVERT TEST SAMPLES LABELS TO ONE HOT ENCODING FOR MULTILABEL CLASSIFICATION\n",
    "\n",
    "def one_hot_encode(ds):\n",
    "    dialogs = []\n",
    "    ohe_dic= {x:[] for x in cols}\n",
    "    for i in tqdm(range(len(ds))):\n",
    "        text = ds['text'][i]\n",
    "        dialogs.append(text)\n",
    "        labels = ds['label'][i].split('+')\n",
    "\n",
    "        if i == 0:\n",
    "            print(labels)\n",
    "            print(ohe_dic.keys())\n",
    "\n",
    "        for k in ohe_dic.keys():\n",
    "            if k in labels:\n",
    "                ohe_dic[k].append(1)\n",
    "            \n",
    "            else:\n",
    "                ohe_dic[k].append(0)\n",
    "\n",
    "    \n",
    "    ohe_dic['input'] = dialogs\n",
    "\n",
    "    return ohe_dic"
   ]
  },
  {
   "cell_type": "code",
   "execution_count": null,
   "metadata": {},
   "outputs": [],
   "source": [
    "# GET TEST SAMPLES FOR TRAIN SPLIT \n",
    "\n",
    "dialogues, annots = extract_dataset(dataset['train'])\n",
    "df = pd.DataFrame({'text': dialogues, \"label\": annots})\n",
    "df.to_csv('daily_dialog_train_next_window3.csv', encoding = 'UTF-8', index = False)\n",
    "\n",
    "ohe_dic = one_hot_encode(df)\n",
    "df_ohe = pd.DataFrame(ohe_dic)\n",
    "df_ohe.to_csv('daily_dialog_train_next_ohe_window3.csv', encoding = 'UTF-8', index = False)"
   ]
  },
  {
   "cell_type": "code",
   "execution_count": null,
   "metadata": {},
   "outputs": [],
   "source": [
    "# GET TEST SAMPLES FOR VAL SPLIT \n",
    "\n",
    "dialogues, annots = extract_dataset(dataset['validation'])\n",
    "df = pd.DataFrame({'text': dialogues, \"label\": annots})\n",
    "df.to_csv('daily_dialog_val_next_window3.csv', encoding = 'UTF-8', index = False)\n",
    "\n",
    "ohe_dic = one_hot_encode(df)\n",
    "df_ohe = pd.DataFrame(ohe_dic)\n",
    "df_ohe.to_csv('daily_dialog_val_next_ohe_window3.csv', encoding = 'UTF-8', index = False)"
   ]
  },
  {
   "cell_type": "code",
   "execution_count": null,
   "metadata": {},
   "outputs": [],
   "source": [
    "# GET TEST SAMPLES FOR TEST SPLIT \n",
    "\n",
    "dialogues, annots = extract_dataset(dataset['test'])\n",
    "df = pd.DataFrame({'text': dialogues, \"label\": annots})\n",
    "df.to_csv('daily_dialog_test_next_window3.csv', encoding = 'UTF-8', index = False)\n",
    "\n",
    "ohe_dic = one_hot_encode(df)\n",
    "df_ohe = pd.DataFrame(ohe_dic)\n",
    "df_ohe.to_csv('daily_dialog_test_next_ohe_window3.csv', encoding = 'UTF-8', index = False)"
   ]
  }
 ],
 "metadata": {
  "language_info": {
   "name": "python"
  },
  "orig_nbformat": 4
 },
 "nbformat": 4,
 "nbformat_minor": 2
}
